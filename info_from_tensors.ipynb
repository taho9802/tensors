{
 "cells": [
  {
   "cell_type": "code",
   "execution_count": 1,
   "metadata": {},
   "outputs": [
    {
     "data": {
      "text/plain": [
       "'\\nwhen not in datatype - use tensor.dtype\\nwhen not in right shape - use tensor.shape\\nwhen not on the right device - use tensor.device\\n'"
      ]
     },
     "execution_count": 1,
     "metadata": {},
     "output_type": "execute_result"
    }
   ],
   "source": [
    "#getting information from tensors\n",
    "\"\"\"\n",
    "when not in datatype - use tensor.dtype\n",
    "when not in right shape - use tensor.shape\n",
    "when not on the right device - use tensor.device\n",
    "\"\"\"\n"
   ]
  },
  {
   "cell_type": "code",
   "execution_count": 2,
   "metadata": {},
   "outputs": [
    {
     "name": "stderr",
     "output_type": "stream",
     "text": [
      "/Users/taewoohong/dev/git/CppPyPlayGround/learnPyTorch/tensors/.env3.12/lib/python3.12/site-packages/torch/nn/modules/transformer.py:20: UserWarning: Failed to initialize NumPy: No module named 'numpy' (Triggered internally at /Users/runner/work/pytorch/pytorch/pytorch/torch/csrc/utils/tensor_numpy.cpp:84.)\n",
      "  device: torch.device = torch.device(torch._C._get_default_device()),  # torch.device('cpu'),\n"
     ]
    },
    {
     "data": {
      "text/plain": [
       "tensor([[0.4313, 0.7975, 0.8376, 0.9959],\n",
       "        [0.1499, 0.3863, 0.1267, 0.4206],\n",
       "        [0.7592, 0.8025, 0.2916, 0.8944]])"
      ]
     },
     "execution_count": 2,
     "metadata": {},
     "output_type": "execute_result"
    }
   ],
   "source": [
    "#create a tensor\n",
    "import torch \n",
    "some_tensor = torch.rand(3, 4)\n",
    "some_tensor"
   ]
  },
  {
   "cell_type": "code",
   "execution_count": 5,
   "metadata": {},
   "outputs": [
    {
     "name": "stdout",
     "output_type": "stream",
     "text": [
      "tensor([[0.4313, 0.7975, 0.8376, 0.9959],\n",
      "        [0.1499, 0.3863, 0.1267, 0.4206],\n",
      "        [0.7592, 0.8025, 0.2916, 0.8944]])\n",
      "Datatype of tensor: torch.float32\n",
      "Shape of tensor: torch.Size([3, 4])\n",
      "Device of tensor is on: cpu\n"
     ]
    }
   ],
   "source": [
    "print(some_tensor)\n",
    "print(f'Datatype of tensor: {some_tensor.dtype}')\n",
    "print(f'Shape of tensor: {some_tensor.shape}')\n",
    "print(f'Device of tensor is on: {some_tensor.device}')"
   ]
  },
  {
   "cell_type": "code",
   "execution_count": 8,
   "metadata": {},
   "outputs": [
    {
     "data": {
      "text/plain": [
       "'\\nTensor operation includes:\\naddition\\nsubtraction\\nmultiplication\\ndevision\\nmatrix mulplication\\n'"
      ]
     },
     "execution_count": 8,
     "metadata": {},
     "output_type": "execute_result"
    }
   ],
   "source": [
    "#Manipulation of Tensors\n",
    "\"\"\"\n",
    "Tensor operation includes:\n",
    "addition\n",
    "subtraction\n",
    "multiplication\n",
    "devision\n",
    "matrix mulplication\n",
    "\"\"\"\n"
   ]
  },
  {
   "cell_type": "code",
   "execution_count": 13,
   "metadata": {},
   "outputs": [
    {
     "data": {
      "text/plain": [
       "tensor([6, 7, 9])"
      ]
     },
     "execution_count": 13,
     "metadata": {},
     "output_type": "execute_result"
    }
   ],
   "source": [
    "tensor = torch.tensor([1, 2, 4])\n",
    "tensor\n",
    "tensor + 5"
   ]
  },
  {
   "cell_type": "code",
   "execution_count": 15,
   "metadata": {},
   "outputs": [
    {
     "data": {
      "text/plain": [
       "tensor([10, 20, 40])"
      ]
     },
     "execution_count": 15,
     "metadata": {},
     "output_type": "execute_result"
    }
   ],
   "source": [
    "tensor * 10"
   ]
  },
  {
   "cell_type": "code",
   "execution_count": 17,
   "metadata": {},
   "outputs": [
    {
     "data": {
      "text/plain": [
       "tensor([-3, -2,  0])"
      ]
     },
     "execution_count": 17,
     "metadata": {},
     "output_type": "execute_result"
    }
   ],
   "source": [
    "tensor - 4"
   ]
  },
  {
   "cell_type": "code",
   "execution_count": 19,
   "metadata": {},
   "outputs": [
    {
     "data": {
      "text/plain": [
       "tensor([10, 20, 40])"
      ]
     },
     "execution_count": 19,
     "metadata": {},
     "output_type": "execute_result"
    }
   ],
   "source": [
    "#pytorch in-build functions\n",
    "torch.mul(tensor, 10)"
   ]
  },
  {
   "cell_type": "code",
   "execution_count": 21,
   "metadata": {},
   "outputs": [
    {
     "data": {
      "text/plain": [
       "tensor([11, 12, 14])"
      ]
     },
     "execution_count": 21,
     "metadata": {},
     "output_type": "execute_result"
    }
   ],
   "source": [
    "torch.add(tensor, 10)"
   ]
  },
  {
   "cell_type": "code",
   "execution_count": 24,
   "metadata": {},
   "outputs": [
    {
     "data": {
      "text/plain": [
       "tensor([-4, -3, -1])"
      ]
     },
     "execution_count": 24,
     "metadata": {},
     "output_type": "execute_result"
    }
   ],
   "source": [
    "torch.sub(tensor, 5)"
   ]
  },
  {
   "cell_type": "code",
   "execution_count": 26,
   "metadata": {},
   "outputs": [
    {
     "data": {
      "text/plain": [
       "'\\ntwo ways of performing multiplication in neural networks and deep learning\\nmatrix multiplication\\nelement-wise mutiplication\\n'"
      ]
     },
     "execution_count": 26,
     "metadata": {},
     "output_type": "execute_result"
    }
   ],
   "source": [
    "#matrix multiplication\n",
    "\"\"\"\n",
    "two ways of performing multiplication in neural networks and deep learning\n",
    "matrix multiplication\n",
    "element-wise mutiplication\n",
    "\"\"\""
   ]
  },
  {
   "cell_type": "code",
   "execution_count": 35,
   "metadata": {},
   "outputs": [
    {
     "name": "stdout",
     "output_type": "stream",
     "text": [
      "tensor([1, 2, 4])  *  tensor([1, 2, 4])\n"
     ]
    }
   ],
   "source": [
    "#element wise multiplcation\n",
    "print(tensor, \" * \", tensor)\n"
   ]
  },
  {
   "cell_type": "markdown",
   "metadata": {},
   "source": [
    "print(f\"Equals: {tensor * tensor}\")"
   ]
  },
  {
   "cell_type": "code",
   "execution_count": 31,
   "metadata": {},
   "outputs": [
    {
     "data": {
      "text/plain": [
       "tensor(21)"
      ]
     },
     "execution_count": 31,
     "metadata": {},
     "output_type": "execute_result"
    }
   ],
   "source": [
    "torch.matmul(tensor, tensor)"
   ]
  },
  {
   "cell_type": "code",
   "execution_count": 33,
   "metadata": {},
   "outputs": [
    {
     "name": "stdout",
     "output_type": "stream",
     "text": [
      "tensor(21)\n",
      "CPU times: user 1.05 ms, sys: 884 µs, total: 1.94 ms\n",
      "Wall time: 1.14 ms\n"
     ]
    }
   ],
   "source": [
    "%%time\n",
    "value = 0\n",
    "for i in range(len(tensor)):\n",
    "  value += tensor[i] * tensor[i]\n",
    "print(value)"
   ]
  },
  {
   "cell_type": "code",
   "execution_count": 36,
   "metadata": {},
   "outputs": [
    {
     "name": "stdout",
     "output_type": "stream",
     "text": [
      "CPU times: user 219 µs, sys: 83 µs, total: 302 µs\n",
      "Wall time: 296 µs\n"
     ]
    },
    {
     "data": {
      "text/plain": [
       "tensor(21)"
      ]
     },
     "execution_count": 36,
     "metadata": {},
     "output_type": "execute_result"
    }
   ],
   "source": [
    "%%time\n",
    "torch.matmul(tensor, tensor)\n"
   ]
  },
  {
   "cell_type": "code",
   "execution_count": 37,
   "metadata": {},
   "outputs": [
    {
     "data": {
      "text/plain": [
       "\"\\nThere are two rules that performing matrix multiplcation needs to satisfy:\\n1. inner dimesnions must match:\\n* '(3, 2) @ (3,2)' will not work.\\n* '(3, 2) @ (2,3)' will work.\\n* '(2, 3) @ (3,2)' will work.\\n\""
      ]
     },
     "execution_count": 37,
     "metadata": {},
     "output_type": "execute_result"
    }
   ],
   "source": [
    "##biggest error in deep learning is shape error especially on big tensors\n",
    "\"\"\"\n",
    "There are two rules that performing matrix multiplcation needs to satisfy:\n",
    "1. inner dimesnions must match:\n",
    "* '(3, 2) @ (3,2)' will not work.\n",
    "* '(3, 2) @ (2,3)' will work.\n",
    "* '(2, 3) @ (3,2)' will work.\n",
    "\n",
    "2. resulting matrix has the shape fo the outer dimensionn:\n",
    "* '(3,2) @ (2,3)' results in '(3,3)'\n",
    "* '(2,3) @ (3,2)' results in '(2,2)'\n",
    "\"\"\""
   ]
  },
  {
   "cell_type": "code",
   "execution_count": 57,
   "metadata": {},
   "outputs": [
    {
     "data": {
      "text/plain": [
       "torch.Size([4, 3, 7])"
      ]
     },
     "execution_count": 57,
     "metadata": {},
     "output_type": "execute_result"
    }
   ],
   "source": [
    "torch.matmul(torch.rand(4,3,2), torch.rand(4,2,7)).shape"
   ]
  },
  {
   "cell_type": "code",
   "execution_count": 58,
   "metadata": {},
   "outputs": [
    {
     "ename": "RuntimeError",
     "evalue": "mat1 and mat2 shapes cannot be multiplied (3x2 and 3x2)",
     "output_type": "error",
     "traceback": [
      "\u001b[0;31m---------------------------------------------------------------------------\u001b[0m",
      "\u001b[0;31mRuntimeError\u001b[0m                              Traceback (most recent call last)",
      "Cell \u001b[0;32mIn[58], line 12\u001b[0m\n\u001b[1;32m      6\u001b[0m tensor_B \u001b[38;5;241m=\u001b[39m torch\u001b[38;5;241m.\u001b[39mtensor([[\u001b[38;5;241m3\u001b[39m,\u001b[38;5;241m7\u001b[39m],\n\u001b[1;32m      7\u001b[0m                          [\u001b[38;5;241m1\u001b[39m,\u001b[38;5;241m9\u001b[39m],\n\u001b[1;32m      8\u001b[0m                          [\u001b[38;5;241m8\u001b[39m,\u001b[38;5;241m5\u001b[39m]])\n\u001b[1;32m     10\u001b[0m \u001b[38;5;66;03m#torch.mm = torch.matmul\u001b[39;00m\n\u001b[1;32m     11\u001b[0m \u001b[38;5;66;03m#this will throw an error because the shapes are not compatible for matrix multiplication\u001b[39;00m\n\u001b[0;32m---> 12\u001b[0m \u001b[43mtorch\u001b[49m\u001b[38;5;241;43m.\u001b[39;49m\u001b[43mmm\u001b[49m\u001b[43m(\u001b[49m\u001b[43mtensor_A\u001b[49m\u001b[43m,\u001b[49m\u001b[43m \u001b[49m\u001b[43mtensor_B\u001b[49m\u001b[43m)\u001b[49m\n",
      "\u001b[0;31mRuntimeError\u001b[0m: mat1 and mat2 shapes cannot be multiplied (3x2 and 3x2)"
     ]
    }
   ],
   "source": [
    "### Shape for matrix multiplicationt\n",
    "tensor_A = torch.tensor([[1,4],\n",
    "                         [3,4],\n",
    "                         [4,2]])\n",
    "\n",
    "tensor_B = torch.tensor([[3,7],\n",
    "                         [1,9],\n",
    "                         [8,5]])\n",
    "\n",
    "#torch.mm = torch.matmul\n",
    "#this will throw an error because the shapes are not compatible for matrix multiplication\n",
    "torch.mm(tensor_A, tensor_B)\n"
   ]
  },
  {
   "cell_type": "code",
   "execution_count": 66,
   "metadata": {},
   "outputs": [
    {
     "data": {
      "text/plain": [
       "tensor([[31, 37, 28],\n",
       "        [37, 39, 44],\n",
       "        [26, 22, 42]])"
      ]
     },
     "execution_count": 66,
     "metadata": {},
     "output_type": "execute_result"
    }
   ],
   "source": [
    "#to fix shape error we can use transpose.\n",
    "\"\"\"\n",
    "Transpose will switch axes of a given tensor.\n",
    "\"\"\"\n",
    "\n",
    "torch.mm(tensor_A, tensor_B.T)"
   ]
  }
 ],
 "metadata": {
  "kernelspec": {
   "display_name": ".env3.12",
   "language": "python",
   "name": "python3"
  },
  "language_info": {
   "codemirror_mode": {
    "name": "ipython",
    "version": 3
   },
   "file_extension": ".py",
   "mimetype": "text/x-python",
   "name": "python",
   "nbconvert_exporter": "python",
   "pygments_lexer": "ipython3",
   "version": "3.12.2"
  }
 },
 "nbformat": 4,
 "nbformat_minor": 2
}
