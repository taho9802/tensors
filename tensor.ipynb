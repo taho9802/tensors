{
 "cells": [
  {
   "cell_type": "code",
   "execution_count": 28,
   "metadata": {},
   "outputs": [
    {
     "name": "stdout",
     "output_type": "stream",
     "text": [
      "tensor([[[[[0.3664, 0.5402, 0.5869, 0.8210],\n",
      "           [0.9548, 0.9737, 0.7270, 0.1885]],\n",
      "\n",
      "          [[0.2613, 0.2145, 0.5823, 0.3938],\n",
      "           [0.7884, 0.3322, 0.3702, 0.4349]],\n",
      "\n",
      "          [[0.7682, 0.6950, 0.2328, 0.4557],\n",
      "           [0.1072, 0.7214, 0.0417, 0.6986]]],\n",
      "\n",
      "\n",
      "         [[[0.1977, 0.7425, 0.5510, 0.0224],\n",
      "           [0.7958, 0.7609, 0.0934, 0.2220]],\n",
      "\n",
      "          [[0.6240, 0.7573, 0.3063, 0.7584],\n",
      "           [0.1759, 0.9950, 0.5653, 0.0854]],\n",
      "\n",
      "          [[0.2809, 0.7894, 0.9922, 0.2251],\n",
      "           [0.9484, 0.0332, 0.1574, 0.1297]]]],\n",
      "\n",
      "\n",
      "\n",
      "        [[[[0.2337, 0.1953, 0.4512, 0.2566],\n",
      "           [0.2141, 0.0713, 0.5563, 0.7579]],\n",
      "\n",
      "          [[0.3034, 0.2207, 0.3389, 0.4729],\n",
      "           [0.1344, 0.1428, 0.6239, 0.5476]],\n",
      "\n",
      "          [[0.3043, 0.0499, 0.2007, 0.2037],\n",
      "           [0.5171, 0.6784, 0.8129, 0.3237]]],\n",
      "\n",
      "\n",
      "         [[[0.0111, 0.8201, 0.4915, 0.4738],\n",
      "           [0.3528, 0.9735, 0.1611, 0.5291]],\n",
      "\n",
      "          [[0.1122, 0.7690, 0.5817, 0.8713],\n",
      "           [0.5919, 0.4444, 0.5398, 0.8491]],\n",
      "\n",
      "          [[0.9427, 0.9251, 0.3224, 0.7932],\n",
      "           [0.9673, 0.0758, 0.4414, 0.5297]]]]])\n",
      "torch.Size([2, 2, 3, 2, 4])\n"
     ]
    }
   ],
   "source": [
    "import torch\n",
    "\n",
    "vector = torch.rand(2,2,3,2,4)\n",
    "print(vector)\n",
    "print(vector.shape)"
   ]
  },
  {
   "cell_type": "code",
   "execution_count": 36,
   "metadata": {},
   "outputs": [
    {
     "data": {
      "text/plain": [
       "torch.float64"
      ]
     },
     "execution_count": 36,
     "metadata": {},
     "output_type": "execute_result"
    }
   ],
   "source": [
    "float_64_tensor = torch.tensor([3.0, 6.0, 9.0],\n",
    "                               dtype=torch.float64,\n",
    "                               device=None,\n",
    "                               requires_grad=False)\n",
    "\n",
    "float_64_tensor.dtype"
   ]
  },
  {
   "cell_type": "code",
   "execution_count": 39,
   "metadata": {},
   "outputs": [
    {
     "name": "stdout",
     "output_type": "stream",
     "text": [
      "tensor([3., 6., 9.])\n"
     ]
    }
   ],
   "source": [
    "#Converting floats\n",
    "float_32_tensor = float_64_tensor.type(torch.float32)\n",
    "float_32_tensor.dtype\n",
    "\n",
    "print(float_32_tensor)"
   ]
  },
  {
   "cell_type": "code",
   "execution_count": 41,
   "metadata": {},
   "outputs": [
    {
     "data": {
      "text/plain": [
       "tensor([ 9., 36., 81.], dtype=torch.float64)"
      ]
     },
     "execution_count": 41,
     "metadata": {},
     "output_type": "execute_result"
    }
   ],
   "source": [
    "float_32_tensor * float_64_tensor"
   ]
  },
  {
   "cell_type": "code",
   "execution_count": 43,
   "metadata": {},
   "outputs": [
    {
     "data": {
      "text/plain": [
       "tensor([1., 1., 1.], dtype=torch.float64)"
      ]
     },
     "execution_count": 43,
     "metadata": {},
     "output_type": "execute_result"
    }
   ],
   "source": [
    "float_64_tensor / float_32_tensor"
   ]
  },
  {
   "cell_type": "code",
   "execution_count": 46,
   "metadata": {},
   "outputs": [
    {
     "data": {
      "text/plain": [
       "tensor([3, 2, 8], dtype=torch.int32)"
      ]
     },
     "execution_count": 46,
     "metadata": {},
     "output_type": "execute_result"
    }
   ],
   "source": [
    "int_32_tensor = torch.tensor([3,2,8],\n",
    "                             dtype=torch.int32)\n",
    "\n",
    "int_32_tensor"
   ]
  },
  {
   "cell_type": "code",
   "execution_count": 48,
   "metadata": {},
   "outputs": [
    {
     "data": {
      "text/plain": [
       "tensor([ 9., 12., 72.])"
      ]
     },
     "execution_count": 48,
     "metadata": {},
     "output_type": "execute_result"
    }
   ],
   "source": [
    "float_32_tensor * int_32_tensor\n"
   ]
  },
  {
   "cell_type": "code",
   "execution_count": 51,
   "metadata": {},
   "outputs": [
    {
     "data": {
      "text/plain": [
       "torch.int64"
      ]
     },
     "execution_count": 51,
     "metadata": {},
     "output_type": "execute_result"
    }
   ],
   "source": [
    "int_32_tensor = torch.tensor([3,8,12], dtype=torch.long)\n",
    "int_32_tensor.dtype"
   ]
  },
  {
   "cell_type": "code",
   "execution_count": 52,
   "metadata": {},
   "outputs": [
    {
     "data": {
      "text/plain": [
       "tensor([  9.,  48., 108.])"
      ]
     },
     "execution_count": 52,
     "metadata": {},
     "output_type": "execute_result"
    }
   ],
   "source": [
    "int_32_tensor * float_32_tensor"
   ]
  },
  {
   "cell_type": "code",
   "execution_count": null,
   "metadata": {},
   "outputs": [],
   "source": []
  }
 ],
 "metadata": {
  "kernelspec": {
   "display_name": ".env3.12",
   "language": "python",
   "name": "python3"
  },
  "language_info": {
   "codemirror_mode": {
    "name": "ipython",
    "version": 3
   },
   "file_extension": ".py",
   "mimetype": "text/x-python",
   "name": "python",
   "nbconvert_exporter": "python",
   "pygments_lexer": "ipython3",
   "version": "3.12.2"
  }
 },
 "nbformat": 4,
 "nbformat_minor": 2
}
